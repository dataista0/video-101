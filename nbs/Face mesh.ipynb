{
 "cells": [
  {
   "cell_type": "code",
   "execution_count": 1,
   "id": "b31599dc",
   "metadata": {},
   "outputs": [],
   "source": [
    "import cv2\n",
    "import mediapipe as mp\n",
    "import time\n",
    "\n",
    "\n",
    "WEBCAM_ID = 2\n",
    "\n",
    "CREATE_VIDEO = '../output/face_mesh.mp4'"
   ]
  },
  {
   "cell_type": "code",
   "execution_count": 5,
   "id": "ee656867",
   "metadata": {},
   "outputs": [
    {
     "name": "stderr",
     "output_type": "stream",
     "text": [
      "OpenCV: FFMPEG: tag 0x5634504d/'MP4V' is not supported with codec id 12 and format 'mp4 / MP4 (MPEG-4 Part 14)'\n",
      "OpenCV: FFMPEG: fallback to use tag 0x7634706d/'mp4v'\n"
     ]
    }
   ],
   "source": [
    "video_source = WEBCAM_ID\n",
    "\n",
    "mp_hands = mp.solutions.hands\n",
    "mp_draw = mp.solutions.drawing_utils\n",
    "\n",
    "mp_face_mesh = mp.solutions.face_mesh\n",
    "    \n",
    "cap = cv2.VideoCapture(video_source)\n",
    "\n",
    "video_writer = None\n",
    "\n",
    "drawing_spec = mp_draw.DrawingSpec(thickness=1, circle_radius=1)\n",
    "\n",
    "with mp_face_mesh.FaceMesh(min_detection_confidence=0.5, min_tracking_confidence=0.5) as face:\n",
    "    with mp_hands.Hands(min_detection_confidence=0.5, min_tracking_confidence=0.5) as hands:\n",
    "\n",
    "        while cap.isOpened():\n",
    "            success, image = cap.read()\n",
    "\n",
    "            start = time.time()\n",
    "\n",
    "            image = cv2.cvtColor(cv2.flip(image, 1), cv2.COLOR_BGR2RGB)\n",
    "            image.flags.writeable = False\n",
    "\n",
    "            face_results = face.process(image)\n",
    "            hand_results = hands.process(image)\n",
    "\n",
    "            image.flags.writeable = True\n",
    "\n",
    "            image = cv2.cvtColor(image, cv2.COLOR_RGB2BGR)\n",
    "\n",
    "            if face_results.multi_face_landmarks:\n",
    "                for lmks in face_results.multi_face_landmarks:\n",
    "                    #print(lmks)\n",
    "                    mp_draw.draw_landmarks(image, lmks, \n",
    "                                           connections=mp_face_mesh.FACEMESH_CONTOURS,\n",
    "                                           landmark_drawing_spec=drawing_spec,\n",
    "                                           connection_drawing_spec=drawing_spec)\n",
    "            \n",
    "            if hand_results.multi_hand_landmarks:\n",
    "                for hand_landmarks in hand_results.multi_hand_landmarks:\n",
    "                    #print(hand_landmarks)\n",
    "                    mp_draw.draw_landmarks(image, hand_landmarks, mp_hands.HAND_CONNECTIONS)\n",
    "\n",
    "            end = time.time()\n",
    "            total_time = end - start\n",
    "            fps = 1 / total_time\n",
    "\n",
    "            cv2.putText(image, f'FPS: {int(fps)}', (20,70), cv2.FONT_HERSHEY_SIMPLEX, 1.5, (0,255,0), 2)\n",
    "            cv2.imshow('Hand Detection & Face Mesh', image)\n",
    "\n",
    "            if CREATE_VIDEO is not False:\n",
    "                if video_writer is None:\n",
    "                    height,width,layers = image.shape\n",
    "                    fourcc = cv2.VideoWriter_fourcc(*'MP4V')\n",
    "                    #self._out = VideoWriter(self._name, self._fourcc, 20.0, (640,480))\n",
    "                    video_writer = cv2.VideoWriter(CREATE_VIDEO, fourcc, 20.0, (width,height))\n",
    "                video_writer.write(image)\n",
    "\n",
    "            if cv2.waitKey(5) & 0xFF == 27:\n",
    "                break\n",
    "\n",
    "cap.release()\n",
    "cv2.destroyAllWindows()\n",
    "if video_writer is not None:\n",
    "    video_writer.release()"
   ]
  },
  {
   "cell_type": "code",
   "execution_count": 3,
   "id": "6e9ae4a0",
   "metadata": {},
   "outputs": [],
   "source": [
    "cap.release()"
   ]
  },
  {
   "cell_type": "code",
   "execution_count": null,
   "id": "d625da0c",
   "metadata": {},
   "outputs": [],
   "source": []
  }
 ],
 "metadata": {
  "kernelspec": {
   "display_name": "Python 3 (ipykernel)",
   "language": "python",
   "name": "python3"
  },
  "language_info": {
   "codemirror_mode": {
    "name": "ipython",
    "version": 3
   },
   "file_extension": ".py",
   "mimetype": "text/x-python",
   "name": "python",
   "nbconvert_exporter": "python",
   "pygments_lexer": "ipython3",
   "version": "3.8.12"
  }
 },
 "nbformat": 4,
 "nbformat_minor": 5
}
